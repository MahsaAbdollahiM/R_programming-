{
  "nbformat": 4,
  "nbformat_minor": 0,
  "metadata": {
    "colab": {
      "provenance": [],
      "authorship_tag": "ABX9TyPv7++P+o1q64YBSTMel+8M",
      "include_colab_link": true
    },
    "kernelspec": {
      "name": "python3",
      "display_name": "Python 3"
    },
    "language_info": {
      "name": "python"
    }
  },
  "cells": [
    {
      "cell_type": "markdown",
      "metadata": {
        "id": "view-in-github",
        "colab_type": "text"
      },
      "source": [
        "<a href=\"https://colab.research.google.com/github/MahsaAbdollahiM/R_programming-/blob/main/Final_Project.ipynb\" target=\"_parent\"><img src=\"https://colab.research.google.com/assets/colab-badge.svg\" alt=\"Open In Colab\"/></a>"
      ]
    },
    {
      "cell_type": "markdown",
      "source": [
        "#https://chatgpt.com/c/ca06bdd8-aafc-4ae6-b457-65ac9c989c46\n",
        "# https://chatgpt.com/c/4f955f59-9b5a-4b37-8915-e9b6f1d1834c"
      ],
      "metadata": {
        "id": "4JIsyTaYzRn6"
      }
    },
    {
      "cell_type": "code",
      "source": [
        "#loading initial libraries\n",
        "import pandas as pd\n",
        "import matplotlib.pyplot as plt\n",
        "import numpy as np"
      ],
      "metadata": {
        "id": "tvFX8qnuN2LY"
      },
      "execution_count": 2,
      "outputs": []
    },
    {
      "cell_type": "markdown",
      "source": [
        "# question 3: What is the average item price and how does it vary over time?\n",
        "\n",
        "###this is the steps to take for answering this question:\n",
        "\n",
        "#### 1. Extract Time Information: If your dataset includes a time-related column (e.g., date, timestamp), extract relevant time information (e.g., year, month, day).\n",
        "#### 2. Compute Average Item Price: Calculate the average item price for each time period (e.g., month, year).\n",
        "#### 3. Visualize the Results: Use Matplotlib or Seaborn to create visualizations (e.g., line plot, bar plot) to show how the average item price varies over time."
      ],
      "metadata": {
        "id": "3E3PDuHXJbK_"
      }
    },
    {
      "cell_type": "code",
      "execution_count": 3,
      "metadata": {
        "id": "yZH7KTu4Gl08"
      },
      "outputs": [],
      "source": [
        "#loading the \"item\"'s data set\n",
        "items = pd.read_csv('/content/items.csv',delimiter = \",\")"
      ]
    },
    {
      "cell_type": "code",
      "source": [
        "items.head()"
      ],
      "metadata": {
        "colab": {
          "base_uri": "https://localhost:8080/",
          "height": 206
        },
        "id": "Bo38rHhpDlEl",
        "outputId": "bda3a524-aed2-48f1-a946-41cb640ae575"
      },
      "execution_count": 4,
      "outputs": [
        {
          "output_type": "execute_result",
          "data": {
            "text/plain": [
              "  item_id         sku   item_name    item_cat item_size  item_price\n",
              "0   It001  HDR-CAP-MD  Cappuccino  Hot Drinks    Medium        3.45\n",
              "1   It002  HDR-CAP-LG  Cappuccino  Hot Drinks     Large        3.75\n",
              "2   It003  HDR-LAT-MD       Latte  Hot Drinks    Medium        3.45\n",
              "3   It004  HDR-LAT-LG       Latte  Hot Drinks     Large        3.75\n",
              "4   It005     HDR-FLT  Flat White  Hot Drinks       NaN        3.15"
            ],
            "text/html": [
              "\n",
              "  <div id=\"df-b629cdc5-468c-4801-92da-8f2cb2149c46\" class=\"colab-df-container\">\n",
              "    <div>\n",
              "<style scoped>\n",
              "    .dataframe tbody tr th:only-of-type {\n",
              "        vertical-align: middle;\n",
              "    }\n",
              "\n",
              "    .dataframe tbody tr th {\n",
              "        vertical-align: top;\n",
              "    }\n",
              "\n",
              "    .dataframe thead th {\n",
              "        text-align: right;\n",
              "    }\n",
              "</style>\n",
              "<table border=\"1\" class=\"dataframe\">\n",
              "  <thead>\n",
              "    <tr style=\"text-align: right;\">\n",
              "      <th></th>\n",
              "      <th>item_id</th>\n",
              "      <th>sku</th>\n",
              "      <th>item_name</th>\n",
              "      <th>item_cat</th>\n",
              "      <th>item_size</th>\n",
              "      <th>item_price</th>\n",
              "    </tr>\n",
              "  </thead>\n",
              "  <tbody>\n",
              "    <tr>\n",
              "      <th>0</th>\n",
              "      <td>It001</td>\n",
              "      <td>HDR-CAP-MD</td>\n",
              "      <td>Cappuccino</td>\n",
              "      <td>Hot Drinks</td>\n",
              "      <td>Medium</td>\n",
              "      <td>3.45</td>\n",
              "    </tr>\n",
              "    <tr>\n",
              "      <th>1</th>\n",
              "      <td>It002</td>\n",
              "      <td>HDR-CAP-LG</td>\n",
              "      <td>Cappuccino</td>\n",
              "      <td>Hot Drinks</td>\n",
              "      <td>Large</td>\n",
              "      <td>3.75</td>\n",
              "    </tr>\n",
              "    <tr>\n",
              "      <th>2</th>\n",
              "      <td>It003</td>\n",
              "      <td>HDR-LAT-MD</td>\n",
              "      <td>Latte</td>\n",
              "      <td>Hot Drinks</td>\n",
              "      <td>Medium</td>\n",
              "      <td>3.45</td>\n",
              "    </tr>\n",
              "    <tr>\n",
              "      <th>3</th>\n",
              "      <td>It004</td>\n",
              "      <td>HDR-LAT-LG</td>\n",
              "      <td>Latte</td>\n",
              "      <td>Hot Drinks</td>\n",
              "      <td>Large</td>\n",
              "      <td>3.75</td>\n",
              "    </tr>\n",
              "    <tr>\n",
              "      <th>4</th>\n",
              "      <td>It005</td>\n",
              "      <td>HDR-FLT</td>\n",
              "      <td>Flat White</td>\n",
              "      <td>Hot Drinks</td>\n",
              "      <td>NaN</td>\n",
              "      <td>3.15</td>\n",
              "    </tr>\n",
              "  </tbody>\n",
              "</table>\n",
              "</div>\n",
              "    <div class=\"colab-df-buttons\">\n",
              "\n",
              "  <div class=\"colab-df-container\">\n",
              "    <button class=\"colab-df-convert\" onclick=\"convertToInteractive('df-b629cdc5-468c-4801-92da-8f2cb2149c46')\"\n",
              "            title=\"Convert this dataframe to an interactive table.\"\n",
              "            style=\"display:none;\">\n",
              "\n",
              "  <svg xmlns=\"http://www.w3.org/2000/svg\" height=\"24px\" viewBox=\"0 -960 960 960\">\n",
              "    <path d=\"M120-120v-720h720v720H120Zm60-500h600v-160H180v160Zm220 220h160v-160H400v160Zm0 220h160v-160H400v160ZM180-400h160v-160H180v160Zm440 0h160v-160H620v160ZM180-180h160v-160H180v160Zm440 0h160v-160H620v160Z\"/>\n",
              "  </svg>\n",
              "    </button>\n",
              "\n",
              "  <style>\n",
              "    .colab-df-container {\n",
              "      display:flex;\n",
              "      gap: 12px;\n",
              "    }\n",
              "\n",
              "    .colab-df-convert {\n",
              "      background-color: #E8F0FE;\n",
              "      border: none;\n",
              "      border-radius: 50%;\n",
              "      cursor: pointer;\n",
              "      display: none;\n",
              "      fill: #1967D2;\n",
              "      height: 32px;\n",
              "      padding: 0 0 0 0;\n",
              "      width: 32px;\n",
              "    }\n",
              "\n",
              "    .colab-df-convert:hover {\n",
              "      background-color: #E2EBFA;\n",
              "      box-shadow: 0px 1px 2px rgba(60, 64, 67, 0.3), 0px 1px 3px 1px rgba(60, 64, 67, 0.15);\n",
              "      fill: #174EA6;\n",
              "    }\n",
              "\n",
              "    .colab-df-buttons div {\n",
              "      margin-bottom: 4px;\n",
              "    }\n",
              "\n",
              "    [theme=dark] .colab-df-convert {\n",
              "      background-color: #3B4455;\n",
              "      fill: #D2E3FC;\n",
              "    }\n",
              "\n",
              "    [theme=dark] .colab-df-convert:hover {\n",
              "      background-color: #434B5C;\n",
              "      box-shadow: 0px 1px 3px 1px rgba(0, 0, 0, 0.15);\n",
              "      filter: drop-shadow(0px 1px 2px rgba(0, 0, 0, 0.3));\n",
              "      fill: #FFFFFF;\n",
              "    }\n",
              "  </style>\n",
              "\n",
              "    <script>\n",
              "      const buttonEl =\n",
              "        document.querySelector('#df-b629cdc5-468c-4801-92da-8f2cb2149c46 button.colab-df-convert');\n",
              "      buttonEl.style.display =\n",
              "        google.colab.kernel.accessAllowed ? 'block' : 'none';\n",
              "\n",
              "      async function convertToInteractive(key) {\n",
              "        const element = document.querySelector('#df-b629cdc5-468c-4801-92da-8f2cb2149c46');\n",
              "        const dataTable =\n",
              "          await google.colab.kernel.invokeFunction('convertToInteractive',\n",
              "                                                    [key], {});\n",
              "        if (!dataTable) return;\n",
              "\n",
              "        const docLinkHtml = 'Like what you see? Visit the ' +\n",
              "          '<a target=\"_blank\" href=https://colab.research.google.com/notebooks/data_table.ipynb>data table notebook</a>'\n",
              "          + ' to learn more about interactive tables.';\n",
              "        element.innerHTML = '';\n",
              "        dataTable['output_type'] = 'display_data';\n",
              "        await google.colab.output.renderOutput(dataTable, element);\n",
              "        const docLink = document.createElement('div');\n",
              "        docLink.innerHTML = docLinkHtml;\n",
              "        element.appendChild(docLink);\n",
              "      }\n",
              "    </script>\n",
              "  </div>\n",
              "\n",
              "\n",
              "<div id=\"df-bf358896-8caa-4faa-ac08-34ef652e21ae\">\n",
              "  <button class=\"colab-df-quickchart\" onclick=\"quickchart('df-bf358896-8caa-4faa-ac08-34ef652e21ae')\"\n",
              "            title=\"Suggest charts\"\n",
              "            style=\"display:none;\">\n",
              "\n",
              "<svg xmlns=\"http://www.w3.org/2000/svg\" height=\"24px\"viewBox=\"0 0 24 24\"\n",
              "     width=\"24px\">\n",
              "    <g>\n",
              "        <path d=\"M19 3H5c-1.1 0-2 .9-2 2v14c0 1.1.9 2 2 2h14c1.1 0 2-.9 2-2V5c0-1.1-.9-2-2-2zM9 17H7v-7h2v7zm4 0h-2V7h2v10zm4 0h-2v-4h2v4z\"/>\n",
              "    </g>\n",
              "</svg>\n",
              "  </button>\n",
              "\n",
              "<style>\n",
              "  .colab-df-quickchart {\n",
              "      --bg-color: #E8F0FE;\n",
              "      --fill-color: #1967D2;\n",
              "      --hover-bg-color: #E2EBFA;\n",
              "      --hover-fill-color: #174EA6;\n",
              "      --disabled-fill-color: #AAA;\n",
              "      --disabled-bg-color: #DDD;\n",
              "  }\n",
              "\n",
              "  [theme=dark] .colab-df-quickchart {\n",
              "      --bg-color: #3B4455;\n",
              "      --fill-color: #D2E3FC;\n",
              "      --hover-bg-color: #434B5C;\n",
              "      --hover-fill-color: #FFFFFF;\n",
              "      --disabled-bg-color: #3B4455;\n",
              "      --disabled-fill-color: #666;\n",
              "  }\n",
              "\n",
              "  .colab-df-quickchart {\n",
              "    background-color: var(--bg-color);\n",
              "    border: none;\n",
              "    border-radius: 50%;\n",
              "    cursor: pointer;\n",
              "    display: none;\n",
              "    fill: var(--fill-color);\n",
              "    height: 32px;\n",
              "    padding: 0;\n",
              "    width: 32px;\n",
              "  }\n",
              "\n",
              "  .colab-df-quickchart:hover {\n",
              "    background-color: var(--hover-bg-color);\n",
              "    box-shadow: 0 1px 2px rgba(60, 64, 67, 0.3), 0 1px 3px 1px rgba(60, 64, 67, 0.15);\n",
              "    fill: var(--button-hover-fill-color);\n",
              "  }\n",
              "\n",
              "  .colab-df-quickchart-complete:disabled,\n",
              "  .colab-df-quickchart-complete:disabled:hover {\n",
              "    background-color: var(--disabled-bg-color);\n",
              "    fill: var(--disabled-fill-color);\n",
              "    box-shadow: none;\n",
              "  }\n",
              "\n",
              "  .colab-df-spinner {\n",
              "    border: 2px solid var(--fill-color);\n",
              "    border-color: transparent;\n",
              "    border-bottom-color: var(--fill-color);\n",
              "    animation:\n",
              "      spin 1s steps(1) infinite;\n",
              "  }\n",
              "\n",
              "  @keyframes spin {\n",
              "    0% {\n",
              "      border-color: transparent;\n",
              "      border-bottom-color: var(--fill-color);\n",
              "      border-left-color: var(--fill-color);\n",
              "    }\n",
              "    20% {\n",
              "      border-color: transparent;\n",
              "      border-left-color: var(--fill-color);\n",
              "      border-top-color: var(--fill-color);\n",
              "    }\n",
              "    30% {\n",
              "      border-color: transparent;\n",
              "      border-left-color: var(--fill-color);\n",
              "      border-top-color: var(--fill-color);\n",
              "      border-right-color: var(--fill-color);\n",
              "    }\n",
              "    40% {\n",
              "      border-color: transparent;\n",
              "      border-right-color: var(--fill-color);\n",
              "      border-top-color: var(--fill-color);\n",
              "    }\n",
              "    60% {\n",
              "      border-color: transparent;\n",
              "      border-right-color: var(--fill-color);\n",
              "    }\n",
              "    80% {\n",
              "      border-color: transparent;\n",
              "      border-right-color: var(--fill-color);\n",
              "      border-bottom-color: var(--fill-color);\n",
              "    }\n",
              "    90% {\n",
              "      border-color: transparent;\n",
              "      border-bottom-color: var(--fill-color);\n",
              "    }\n",
              "  }\n",
              "</style>\n",
              "\n",
              "  <script>\n",
              "    async function quickchart(key) {\n",
              "      const quickchartButtonEl =\n",
              "        document.querySelector('#' + key + ' button');\n",
              "      quickchartButtonEl.disabled = true;  // To prevent multiple clicks.\n",
              "      quickchartButtonEl.classList.add('colab-df-spinner');\n",
              "      try {\n",
              "        const charts = await google.colab.kernel.invokeFunction(\n",
              "            'suggestCharts', [key], {});\n",
              "      } catch (error) {\n",
              "        console.error('Error during call to suggestCharts:', error);\n",
              "      }\n",
              "      quickchartButtonEl.classList.remove('colab-df-spinner');\n",
              "      quickchartButtonEl.classList.add('colab-df-quickchart-complete');\n",
              "    }\n",
              "    (() => {\n",
              "      let quickchartButtonEl =\n",
              "        document.querySelector('#df-bf358896-8caa-4faa-ac08-34ef652e21ae button');\n",
              "      quickchartButtonEl.style.display =\n",
              "        google.colab.kernel.accessAllowed ? 'block' : 'none';\n",
              "    })();\n",
              "  </script>\n",
              "</div>\n",
              "    </div>\n",
              "  </div>\n"
            ],
            "application/vnd.google.colaboratory.intrinsic+json": {
              "type": "dataframe",
              "variable_name": "items",
              "summary": "{\n  \"name\": \"items\",\n  \"rows\": 24,\n  \"fields\": [\n    {\n      \"column\": \"item_id\",\n      \"properties\": {\n        \"dtype\": \"string\",\n        \"num_unique_values\": 24,\n        \"samples\": [\n          \"It009\",\n          \"It017\",\n          \"It001\"\n        ],\n        \"semantic_type\": \"\",\n        \"description\": \"\"\n      }\n    },\n    {\n      \"column\": \"sku\",\n      \"properties\": {\n        \"dtype\": \"string\",\n        \"num_unique_values\": 24,\n        \"samples\": [\n          \"HDR-MOC-MD\",\n          \"CDR-CMO-MD\",\n          \"HDR-CAP-MD\"\n        ],\n        \"semantic_type\": \"\",\n        \"description\": \"\"\n      }\n    },\n    {\n      \"column\": \"item_name\",\n      \"properties\": {\n        \"dtype\": \"string\",\n        \"num_unique_values\": 14,\n        \"samples\": [\n          \"Cold Mocha\",\n          \"Lemonade\",\n          \"Cappuccino\"\n        ],\n        \"semantic_type\": \"\",\n        \"description\": \"\"\n      }\n    },\n    {\n      \"column\": \"item_cat\",\n      \"properties\": {\n        \"dtype\": \"category\",\n        \"num_unique_values\": 3,\n        \"samples\": [\n          \"Hot Drinks\",\n          \"Cold Drinks\",\n          \"Snacks\"\n        ],\n        \"semantic_type\": \"\",\n        \"description\": \"\"\n      }\n    },\n    {\n      \"column\": \"item_size\",\n      \"properties\": {\n        \"dtype\": \"category\",\n        \"num_unique_values\": 2,\n        \"samples\": [\n          \"Large\",\n          \"Medium\"\n        ],\n        \"semantic_type\": \"\",\n        \"description\": \"\"\n      }\n    },\n    {\n      \"column\": \"item_price\",\n      \"properties\": {\n        \"dtype\": \"number\",\n        \"std\": 0.7678197063434067,\n        \"min\": 2.15,\n        \"max\": 5.6,\n        \"num_unique_values\": 14,\n        \"samples\": [\n          3.25,\n          3.35\n        ],\n        \"semantic_type\": \"\",\n        \"description\": \"\"\n      }\n    }\n  ]\n}"
            }
          },
          "metadata": {},
          "execution_count": 4
        }
      ]
    },
    {
      "cell_type": "code",
      "source": [
        "#item_price = items[\"item_price\"]\n",
        "print(items.columns)"
      ],
      "metadata": {
        "colab": {
          "base_uri": "https://localhost:8080/"
        },
        "id": "nO1GrrIEJVNl",
        "outputId": "fcb0b96b-51f5-436a-b36b-fc58b571e8cb"
      },
      "execution_count": 5,
      "outputs": [
        {
          "output_type": "stream",
          "name": "stdout",
          "text": [
            "Index(['item_id', 'sku', 'item_name', 'item_cat', 'item_size', 'item_price'], dtype='object')\n"
          ]
        }
      ]
    },
    {
      "cell_type": "code",
      "source": [
        "#remove leading and trailing whitespace from the column names (not necessary!)\n",
        "#items.columns = items.columns.str.strip()"
      ],
      "metadata": {
        "id": "DbAfU9kZ_84_"
      },
      "execution_count": 6,
      "outputs": []
    },
    {
      "cell_type": "code",
      "source": [
        "items[\"item_price\"]"
      ],
      "metadata": {
        "colab": {
          "base_uri": "https://localhost:8080/"
        },
        "id": "UfKXIR_HAfh8",
        "outputId": "dd402fc7-4c43-4679-bca2-cf2a0bb04128"
      },
      "execution_count": 7,
      "outputs": [
        {
          "output_type": "execute_result",
          "data": {
            "text/plain": [
              "0     3.45\n",
              "1     3.75\n",
              "2     3.45\n",
              "3     3.75\n",
              "4     3.15\n",
              "5     4.20\n",
              "6     4.60\n",
              "7     2.15\n",
              "8     4.00\n",
              "9     4.60\n",
              "10    4.50\n",
              "11    4.70\n",
              "12    4.20\n",
              "13    4.60\n",
              "14    3.45\n",
              "15    3.75\n",
              "16    4.00\n",
              "17    4.60\n",
              "18    3.25\n",
              "19    3.55\n",
              "20    3.35\n",
              "21    3.75\n",
              "22    5.60\n",
              "23    5.50\n",
              "Name: item_price, dtype: float64"
            ]
          },
          "metadata": {},
          "execution_count": 7
        }
      ]
    },
    {
      "cell_type": "code",
      "source": [
        "#calculating the average item prices\n",
        "average_item_price = items[\"item_price\"].mean()\n",
        "print(f\"The average price is: {average_item_price}\")"
      ],
      "metadata": {
        "colab": {
          "base_uri": "https://localhost:8080/"
        },
        "id": "PFgX-R8BNdLz",
        "outputId": "c0e8b160-d7e3-4370-9617-07df41780b3d"
      },
      "execution_count": 8,
      "outputs": [
        {
          "output_type": "stream",
          "name": "stdout",
          "text": [
            "The average price is: 3.995833333333333\n"
          ]
        }
      ]
    },
    {
      "cell_type": "code",
      "source": [
        "#items[\"item_name\"]\n",
        "#not possible because from each we have two but with different prices"
      ],
      "metadata": {
        "id": "Fsfp9St8eOws"
      },
      "execution_count": 9,
      "outputs": []
    },
    {
      "cell_type": "code",
      "source": [
        "items[\"item_id\"]"
      ],
      "metadata": {
        "colab": {
          "base_uri": "https://localhost:8080/"
        },
        "id": "lBJEZyBbewD5",
        "outputId": "dee722d9-18fd-4825-826c-76f3116ff270"
      },
      "execution_count": 10,
      "outputs": [
        {
          "output_type": "execute_result",
          "data": {
            "text/plain": [
              "0     It001\n",
              "1     It002\n",
              "2     It003\n",
              "3     It004\n",
              "4     It005\n",
              "5     It006\n",
              "6     It007\n",
              "7     It008\n",
              "8     It009\n",
              "9     It010\n",
              "10    It011\n",
              "11    It012\n",
              "12    It013\n",
              "13    It014\n",
              "14    It015\n",
              "15    It016\n",
              "16    It017\n",
              "17    It018\n",
              "18    It019\n",
              "19    It020\n",
              "20    It021\n",
              "21    It022\n",
              "22    It023\n",
              "23    It024\n",
              "Name: item_id, dtype: object"
            ]
          },
          "metadata": {},
          "execution_count": 10
        }
      ]
    },
    {
      "cell_type": "code",
      "source": [
        "for index, row in items.iterrows():\n",
        "    print(f\"item_name: {row['item_name']}, ID: {row['item_id']}\")"
      ],
      "metadata": {
        "colab": {
          "base_uri": "https://localhost:8080/",
          "height": 159
        },
        "id": "XEnfxeDxne3P",
        "outputId": "f980f203-8723-4566-d46b-02d909c6b482"
      },
      "execution_count": 38,
      "outputs": [
        {
          "output_type": "error",
          "ename": "AttributeError",
          "evalue": "'set' object has no attribute 'iterrows'",
          "traceback": [
            "\u001b[0;31m---------------------------------------------------------------------------\u001b[0m",
            "\u001b[0;31mAttributeError\u001b[0m                            Traceback (most recent call last)",
            "\u001b[0;32m<ipython-input-38-7fe9a843690b>\u001b[0m in \u001b[0;36m<cell line: 1>\u001b[0;34m()\u001b[0m\n\u001b[0;32m----> 1\u001b[0;31m \u001b[0;32mfor\u001b[0m \u001b[0mindex\u001b[0m\u001b[0;34m,\u001b[0m \u001b[0mrow\u001b[0m \u001b[0;32min\u001b[0m \u001b[0mitems\u001b[0m\u001b[0;34m.\u001b[0m\u001b[0miterrows\u001b[0m\u001b[0;34m(\u001b[0m\u001b[0;34m)\u001b[0m\u001b[0;34m:\u001b[0m\u001b[0;34m\u001b[0m\u001b[0;34m\u001b[0m\u001b[0m\n\u001b[0m\u001b[1;32m      2\u001b[0m     \u001b[0mprint\u001b[0m\u001b[0;34m(\u001b[0m\u001b[0;34mf\"item_name: {row['item_name']}, ID: {row['item_id']}\"\u001b[0m\u001b[0;34m)\u001b[0m\u001b[0;34m\u001b[0m\u001b[0;34m\u001b[0m\u001b[0m\n",
            "\u001b[0;31mAttributeError\u001b[0m: 'set' object has no attribute 'iterrows'"
          ]
        }
      ]
    },
    {
      "cell_type": "code",
      "source": [
        "#Adding the labels and title\n",
        "plt.xlabel('item id')\n",
        "plt.ylabel('item price ($)')\n",
        "plt.title('Item Price($)')\n",
        "\n",
        "#making the bar plot\n",
        "plt.bar(items[\"item_id\"],items[\"item_price\"],label = 'Item Price',width= .5)\n",
        "\n",
        "# showing the average item price\n",
        "plt.axhline(average_item_price, color='red', linestyle='dashed', linewidth=1)\n",
        "\n",
        "# Rotate x-axis labels vertically\n",
        "plt.xticks(rotation=90)\n",
        "\n",
        "## Add legend to show the label for the average price line and item prices\n",
        "plt.legend(['Average item price ($)', 'Item Price($)'])\n",
        "\n",
        "plt.show()\n"
      ],
      "metadata": {
        "colab": {
          "base_uri": "https://localhost:8080/",
          "height": 494
        },
        "id": "_23Yw97mTF8V",
        "outputId": "53d3b476-e5a5-4975-999d-44c49a83d336"
      },
      "execution_count": 11,
      "outputs": [
        {
          "output_type": "display_data",
          "data": {
            "text/plain": [
              "<Figure size 640x480 with 1 Axes>"
            ],
            "image/png": "[encoded data removed]"
          },
          "metadata": {}
        }
      ]
    },
    {
      "cell_type": "code",
      "source": [],
      "metadata": {
        "id": "kcTIPAAbhHh9"
      },
      "execution_count": 11,
      "outputs": []
    },
    {
      "cell_type": "markdown",
      "source": [
        "# Are there any noticeable trends in customer preferences based on order history?\n",
        "\n",
        "\n",
        "#Based on the time of the day, what is the order preferences?\n",
        "\n",
        "####Explore Customer Preferences: Analyze order history to identify trends or patterns in customer preferences. This may involve looking at popular items, frequent purchases, or changes in purchasing behavior over time.\n",
        "\n",
        "####Analyze Time of the Day: Examine order data based on the time of day to determine order preferences during different hours. This can help identify peak ordering times or preferred items during specific times of the day.\n",
        "\n",
        "####Visualize the Results: Use Matplotlib or Seaborn to create visualizations that illustrate the trends and patterns identified in customer preferences and order timing.\n"
      ],
      "metadata": {
        "id": "J3dWUa6CKYPK"
      }
    },
    {
      "cell_type": "code",
      "source": [
        "#loading the data set\n",
        "orders = pd.read_csv('/content/orders.csv',delimiter = ',')"
      ],
      "metadata": {
        "id": "PMi6402bKfpY"
      },
      "execution_count": 12,
      "outputs": []
    },
    {
      "cell_type": "code",
      "source": [
        "orders[\"item_id\"].unique()"
      ],
      "metadata": {
        "colab": {
          "base_uri": "https://localhost:8080/"
        },
        "id": "G_nvm6Ycb5hx",
        "outputId": "a9b9e0c3-4c38-4d5f-894b-c1a362df8a3b"
      },
      "execution_count": 28,
      "outputs": [
        {
          "output_type": "execute_result",
          "data": {
            "text/plain": [
              "array(['It008', 'It014', 'It019', 'It024', 'It001', 'It016', 'It005',\n",
              "       'It020', 'It006', 'It018', 'It023', 'It011', 'It003', 'It007',\n",
              "       'It009', 'It021', 'It012', 'It022', 'It004', 'It002', 'It017',\n",
              "       'It0010', 'It015', 'It013', 'It010', 'It028', 'It027', 'It026',\n",
              "       'It025'], dtype=object)"
            ]
          },
          "metadata": {},
          "execution_count": 28
        }
      ]
    },
    {
      "cell_type": "code",
      "source": [
        "orders[\"item_id\"].nunique()"
      ],
      "metadata": {
        "colab": {
          "base_uri": "https://localhost:8080/"
        },
        "id": "J-OorGcodKC9",
        "outputId": "05bded38-238c-4f8d-d7e3-92077e0a8df6"
      },
      "execution_count": 29,
      "outputs": [
        {
          "output_type": "execute_result",
          "data": {
            "text/plain": [
              "29"
            ]
          },
          "metadata": {},
          "execution_count": 29
        }
      ]
    },
    {
      "cell_type": "code",
      "source": [
        "#print orders columns\n",
        "orders.columns"
      ],
      "metadata": {
        "colab": {
          "base_uri": "https://localhost:8080/"
        },
        "id": "E3e9C_-zNs-7",
        "outputId": "52b633eb-327c-4b53-9640-5a142d2d0a9a"
      },
      "execution_count": 14,
      "outputs": [
        {
          "output_type": "execute_result",
          "data": {
            "text/plain": [
              "Index(['row_id', 'order_id', 'created_at', 'item_id', 'quantity', 'cust_name',\n",
              "       'in_or_out'],\n",
              "      dtype='object')"
            ]
          },
          "metadata": {},
          "execution_count": 14
        }
      ]
    },
    {
      "cell_type": "code",
      "source": [
        "# Check first few rows of the DataFrame\n",
        "orders.head()"
      ],
      "metadata": {
        "colab": {
          "base_uri": "https://localhost:8080/",
          "height": 206
        },
        "id": "ruhsZrSpY8-l",
        "outputId": "a437548a-85e8-4801-d74b-8ebcb3803bce"
      },
      "execution_count": 15,
      "outputs": [
        {
          "output_type": "execute_result",
          "data": {
            "text/plain": [
              "   row_id order_id           created_at item_id  quantity cust_name in_or_out\n",
              "0       1   ORD001  2024-02-12 07:04:19   It008         1      Alex       out\n",
              "1       2   ORD002  2024-02-12 07:09:38   It014         1    Jordan        in\n",
              "2       3   ORD003  2024-02-12 07:14:29   It008         1    Taylor       out\n",
              "3       4   ORD004  2024-02-12 07:18:39   It019         1     Casey       out\n",
              "4       5   ORD005  2024-02-12 07:23:44   It024         1     Jamie       out"
            ],
            "text/html": [
              "\n",
              "  <div id=\"df-d7291841-f9fb-44b3-aebc-c6e709d4e408\" class=\"colab-df-container\">\n",
              "    <div>\n",
              "<style scoped>\n",
              "    .dataframe tbody tr th:only-of-type {\n",
              "        vertical-align: middle;\n",
              "    }\n",
              "\n",
              "    .dataframe tbody tr th {\n",
              "        vertical-align: top;\n",
              "    }\n",
              "\n",
              "    .dataframe thead th {\n",
              "        text-align: right;\n",
              "    }\n",
              "</style>\n",
              "<table border=\"1\" class=\"dataframe\">\n",
              "  <thead>\n",
              "    <tr style=\"text-align: right;\">\n",
              "      <th></th>\n",
              "      <th>row_id</th>\n",
              "      <th>order_id</th>\n",
              "      <th>created_at</th>\n",
              "      <th>item_id</th>\n",
              "      <th>quantity</th>\n",
              "      <th>cust_name</th>\n",
              "      <th>in_or_out</th>\n",
              "    </tr>\n",
              "  </thead>\n",
              "  <tbody>\n",
              "    <tr>\n",
              "      <th>0</th>\n",
              "      <td>1</td>\n",
              "      <td>ORD001</td>\n",
              "      <td>2024-02-12 07:04:19</td>\n",
              "      <td>It008</td>\n",
              "      <td>1</td>\n",
              "      <td>Alex</td>\n",
              "      <td>out</td>\n",
              "    </tr>\n",
              "    <tr>\n",
              "      <th>1</th>\n",
              "      <td>2</td>\n",
              "      <td>ORD002</td>\n",
              "      <td>2024-02-12 07:09:38</td>\n",
              "      <td>It014</td>\n",
              "      <td>1</td>\n",
              "      <td>Jordan</td>\n",
              "      <td>in</td>\n",
              "    </tr>\n",
              "    <tr>\n",
              "      <th>2</th>\n",
              "      <td>3</td>\n",
              "      <td>ORD003</td>\n",
              "      <td>2024-02-12 07:14:29</td>\n",
              "      <td>It008</td>\n",
              "      <td>1</td>\n",
              "      <td>Taylor</td>\n",
              "      <td>out</td>\n",
              "    </tr>\n",
              "    <tr>\n",
              "      <th>3</th>\n",
              "      <td>4</td>\n",
              "      <td>ORD004</td>\n",
              "      <td>2024-02-12 07:18:39</td>\n",
              "      <td>It019</td>\n",
              "      <td>1</td>\n",
              "      <td>Casey</td>\n",
              "      <td>out</td>\n",
              "    </tr>\n",
              "    <tr>\n",
              "      <th>4</th>\n",
              "      <td>5</td>\n",
              "      <td>ORD005</td>\n",
              "      <td>2024-02-12 07:23:44</td>\n",
              "      <td>It024</td>\n",
              "      <td>1</td>\n",
              "      <td>Jamie</td>\n",
              "      <td>out</td>\n",
              "    </tr>\n",
              "  </tbody>\n",
              "</table>\n",
              "</div>\n",
              "    <div class=\"colab-df-buttons\">\n",
              "\n",
              "  <div class=\"colab-df-container\">\n",
              "    <button class=\"colab-df-convert\" onclick=\"convertToInteractive('df-d7291841-f9fb-44b3-aebc-c6e709d4e408')\"\n",
              "            title=\"Convert this dataframe to an interactive table.\"\n",
              "            style=\"display:none;\">\n",
              "\n",
              "  <svg xmlns=\"http://www.w3.org/2000/svg\" height=\"24px\" viewBox=\"0 -960 960 960\">\n",
              "    <path d=\"M120-120v-720h720v720H120Zm60-500h600v-160H180v160Zm220 220h160v-160H400v160Zm0 220h160v-160H400v160ZM180-400h160v-160H180v160Zm440 0h160v-160H620v160ZM180-180h160v-160H180v160Zm440 0h160v-160H620v160Z\"/>\n",
              "  </svg>\n",
              "    </button>\n",
              "\n",
              "  <style>\n",
              "    .colab-df-container {\n",
              "      display:flex;\n",
              "      gap: 12px;\n",
              "    }\n",
              "\n",
              "    .colab-df-convert {\n",
              "      background-color: #E8F0FE;\n",
              "      border: none;\n",
              "      border-radius: 50%;\n",
              "      cursor: pointer;\n",
              "      display: none;\n",
              "      fill: #1967D2;\n",
              "      height: 32px;\n",
              "      padding: 0 0 0 0;\n",
              "      width: 32px;\n",
              "    }\n",
              "\n",
              "    .colab-df-convert:hover {\n",
              "      background-color: #E2EBFA;\n",
              "      box-shadow: 0px 1px 2px rgba(60, 64, 67, 0.3), 0px 1px 3px 1px rgba(60, 64, 67, 0.15);\n",
              "      fill: #174EA6;\n",
              "    }\n",
              "\n",
              "    .colab-df-buttons div {\n",
              "      margin-bottom: 4px;\n",
              "    }\n",
              "\n",
              "    [theme=dark] .colab-df-convert {\n",
              "      background-color: #3B4455;\n",
              "      fill: #D2E3FC;\n",
              "    }\n",
              "\n",
              "    [theme=dark] .colab-df-convert:hover {\n",
              "      background-color: #434B5C;\n",
              "      box-shadow: 0px 1px 3px 1px rgba(0, 0, 0, 0.15);\n",
              "      filter: drop-shadow(0px 1px 2px rgba(0, 0, 0, 0.3));\n",
              "      fill: #FFFFFF;\n",
              "    }\n",
              "  </style>\n",
              "\n",
              "    <script>\n",
              "      const buttonEl =\n",
              "        document.querySelector('#df-d7291841-f9fb-44b3-aebc-c6e709d4e408 button.colab-df-convert');\n",
              "      buttonEl.style.display =\n",
              "        google.colab.kernel.accessAllowed ? 'block' : 'none';\n",
              "\n",
              "      async function convertToInteractive(key) {\n",
              "        const element = document.querySelector('#df-d7291841-f9fb-44b3-aebc-c6e709d4e408');\n",
              "        const dataTable =\n",
              "          await google.colab.kernel.invokeFunction('convertToInteractive',\n",
              "                                                    [key], {});\n",
              "        if (!dataTable) return;\n",
              "\n",
              "        const docLinkHtml = 'Like what you see? Visit the ' +\n",
              "          '<a target=\"_blank\" href=https://colab.research.google.com/notebooks/data_table.ipynb>data table notebook</a>'\n",
              "          + ' to learn more about interactive tables.';\n",
              "        element.innerHTML = '';\n",
              "        dataTable['output_type'] = 'display_data';\n",
              "        await google.colab.output.renderOutput(dataTable, element);\n",
              "        const docLink = document.createElement('div');\n",
              "        docLink.innerHTML = docLinkHtml;\n",
              "        element.appendChild(docLink);\n",
              "      }\n",
              "    </script>\n",
              "  </div>\n",
              "\n",
              "\n",
              "<div id=\"df-51250218-e7e7-4ff4-9d00-1f3beb22b090\">\n",
              "  <button class=\"colab-df-quickchart\" onclick=\"quickchart('df-51250218-e7e7-4ff4-9d00-1f3beb22b090')\"\n",
              "            title=\"Suggest charts\"\n",
              "            style=\"display:none;\">\n",
              "\n",
              "<svg xmlns=\"http://www.w3.org/2000/svg\" height=\"24px\"viewBox=\"0 0 24 24\"\n",
              "     width=\"24px\">\n",
              "    <g>\n",
              "        <path d=\"M19 3H5c-1.1 0-2 .9-2 2v14c0 1.1.9 2 2 2h14c1.1 0 2-.9 2-2V5c0-1.1-.9-2-2-2zM9 17H7v-7h2v7zm4 0h-2V7h2v10zm4 0h-2v-4h2v4z\"/>\n",
              "    </g>\n",
              "</svg>\n",
              "  </button>\n",
              "\n",
              "<style>\n",
              "  .colab-df-quickchart {\n",
              "      --bg-color: #E8F0FE;\n",
              "      --fill-color: #1967D2;\n",
              "      --hover-bg-color: #E2EBFA;\n",
              "      --hover-fill-color: #174EA6;\n",
              "      --disabled-fill-color: #AAA;\n",
              "      --disabled-bg-color: #DDD;\n",
              "  }\n",
              "\n",
              "  [theme=dark] .colab-df-quickchart {\n",
              "      --bg-color: #3B4455;\n",
              "      --fill-color: #D2E3FC;\n",
              "      --hover-bg-color: #434B5C;\n",
              "      --hover-fill-color: #FFFFFF;\n",
              "      --disabled-bg-color: #3B4455;\n",
              "      --disabled-fill-color: #666;\n",
              "  }\n",
              "\n",
              "  .colab-df-quickchart {\n",
              "    background-color: var(--bg-color);\n",
              "    border: none;\n",
              "    border-radius: 50%;\n",
              "    cursor: pointer;\n",
              "    display: none;\n",
              "    fill: var(--fill-color);\n",
              "    height: 32px;\n",
              "    padding: 0;\n",
              "    width: 32px;\n",
              "  }\n",
              "\n",
              "  .colab-df-quickchart:hover {\n",
              "    background-color: var(--hover-bg-color);\n",
              "    box-shadow: 0 1px 2px rgba(60, 64, 67, 0.3), 0 1px 3px 1px rgba(60, 64, 67, 0.15);\n",
              "    fill: var(--button-hover-fill-color);\n",
              "  }\n",
              "\n",
              "  .colab-df-quickchart-complete:disabled,\n",
              "  .colab-df-quickchart-complete:disabled:hover {\n",
              "    background-color: var(--disabled-bg-color);\n",
              "    fill: var(--disabled-fill-color);\n",
              "    box-shadow: none;\n",
              "  }\n",
              "\n",
              "  .colab-df-spinner {\n",
              "    border: 2px solid var(--fill-color);\n",
              "    border-color: transparent;\n",
              "    border-bottom-color: var(--fill-color);\n",
              "    animation:\n",
              "      spin 1s steps(1) infinite;\n",
              "  }\n",
              "\n",
              "  @keyframes spin {\n",
              "    0% {\n",
              "      border-color: transparent;\n",
              "      border-bottom-color: var(--fill-color);\n",
              "      border-left-color: var(--fill-color);\n",
              "    }\n",
              "    20% {\n",
              "      border-color: transparent;\n",
              "      border-left-color: var(--fill-color);\n",
              "      border-top-color: var(--fill-color);\n",
              "    }\n",
              "    30% {\n",
              "      border-color: transparent;\n",
              "      border-left-color: var(--fill-color);\n",
              "      border-top-color: var(--fill-color);\n",
              "      border-right-color: var(--fill-color);\n",
              "    }\n",
              "    40% {\n",
              "      border-color: transparent;\n",
              "      border-right-color: var(--fill-color);\n",
              "      border-top-color: var(--fill-color);\n",
              "    }\n",
              "    60% {\n",
              "      border-color: transparent;\n",
              "      border-right-color: var(--fill-color);\n",
              "    }\n",
              "    80% {\n",
              "      border-color: transparent;\n",
              "      border-right-color: var(--fill-color);\n",
              "      border-bottom-color: var(--fill-color);\n",
              "    }\n",
              "    90% {\n",
              "      border-color: transparent;\n",
              "      border-bottom-color: var(--fill-color);\n",
              "    }\n",
              "  }\n",
              "</style>\n",
              "\n",
              "  <script>\n",
              "    async function quickchart(key) {\n",
              "      const quickchartButtonEl =\n",
              "        document.querySelector('#' + key + ' button');\n",
              "      quickchartButtonEl.disabled = true;  // To prevent multiple clicks.\n",
              "      quickchartButtonEl.classList.add('colab-df-spinner');\n",
              "      try {\n",
              "        const charts = await google.colab.kernel.invokeFunction(\n",
              "            'suggestCharts', [key], {});\n",
              "      } catch (error) {\n",
              "        console.error('Error during call to suggestCharts:', error);\n",
              "      }\n",
              "      quickchartButtonEl.classList.remove('colab-df-spinner');\n",
              "      quickchartButtonEl.classList.add('colab-df-quickchart-complete');\n",
              "    }\n",
              "    (() => {\n",
              "      let quickchartButtonEl =\n",
              "        document.querySelector('#df-51250218-e7e7-4ff4-9d00-1f3beb22b090 button');\n",
              "      quickchartButtonEl.style.display =\n",
              "        google.colab.kernel.accessAllowed ? 'block' : 'none';\n",
              "    })();\n",
              "  </script>\n",
              "</div>\n",
              "    </div>\n",
              "  </div>\n"
            ],
            "application/vnd.google.colaboratory.intrinsic+json": {
              "type": "dataframe",
              "variable_name": "orders",
              "summary": "{\n  \"name\": \"orders\",\n  \"rows\": 521,\n  \"fields\": [\n    {\n      \"column\": \"row_id\",\n      \"properties\": {\n        \"dtype\": \"number\",\n        \"std\": 150,\n        \"min\": 1,\n        \"max\": 521,\n        \"num_unique_values\": 521,\n        \"samples\": [\n          508,\n          94,\n          7\n        ],\n        \"semantic_type\": \"\",\n        \"description\": \"\"\n      }\n    },\n    {\n      \"column\": \"order_id\",\n      \"properties\": {\n        \"dtype\": \"string\",\n        \"num_unique_values\": 430,\n        \"samples\": [\n          \"ORD430\",\n          \"ORD083\",\n          \"ORD185\"\n        ],\n        \"semantic_type\": \"\",\n        \"description\": \"\"\n      }\n    },\n    {\n      \"column\": \"created_at\",\n      \"properties\": {\n        \"dtype\": \"object\",\n        \"num_unique_values\": 439,\n        \"samples\": [\n          \"2024-02-15 13:00:00\",\n          \"2024-02-12 13:55:45\",\n          \"2024-02-16 14:35:00\"\n        ],\n        \"semantic_type\": \"\",\n        \"description\": \"\"\n      }\n    },\n    {\n      \"column\": \"item_id\",\n      \"properties\": {\n        \"dtype\": \"category\",\n        \"num_unique_values\": 29,\n        \"samples\": [\n          \"It026\",\n          \"It012\",\n          \"It003\"\n        ],\n        \"semantic_type\": \"\",\n        \"description\": \"\"\n      }\n    },\n    {\n      \"column\": \"quantity\",\n      \"properties\": {\n        \"dtype\": \"number\",\n        \"std\": 0,\n        \"min\": 1,\n        \"max\": 1,\n        \"num_unique_values\": 1,\n        \"samples\": [\n          1\n        ],\n        \"semantic_type\": \"\",\n        \"description\": \"\"\n      }\n    },\n    {\n      \"column\": \"cust_name\",\n      \"properties\": {\n        \"dtype\": \"category\",\n        \"num_unique_values\": 149,\n        \"samples\": [\n          \"Noel\"\n        ],\n        \"semantic_type\": \"\",\n        \"description\": \"\"\n      }\n    },\n    {\n      \"column\": \"in_or_out\",\n      \"properties\": {\n        \"dtype\": \"category\",\n        \"num_unique_values\": 3,\n        \"samples\": [\n          \"out\"\n        ],\n        \"semantic_type\": \"\",\n        \"description\": \"\"\n      }\n    }\n  ]\n}"
            }
          },
          "metadata": {},
          "execution_count": 15
        }
      ]
    },
    {
      "cell_type": "code",
      "source": [
        "# Count the occurrences of each item\n",
        "item_counts = orders['item_id'].value_counts().sort_index()\n",
        "#.sort_index()\n",
        "print(item_counts)"
      ],
      "metadata": {
        "colab": {
          "base_uri": "https://localhost:8080/"
        },
        "id": "eoKtOtHMwVPZ",
        "outputId": "bf8f7c41-49ee-47c8-e563-8d76808aff40"
      },
      "execution_count": 16,
      "outputs": [
        {
          "output_type": "stream",
          "name": "stdout",
          "text": [
            "item_id\n",
            "It001     21\n",
            "It0010     1\n",
            "It002     19\n",
            "It003     19\n",
            "It004     19\n",
            "It005     27\n",
            "It006     20\n",
            "It007     17\n",
            "It008     19\n",
            "It009     26\n",
            "It010     12\n",
            "It011     23\n",
            "It012     20\n",
            "It013     13\n",
            "It014     22\n",
            "It015     13\n",
            "It016     18\n",
            "It017     20\n",
            "It018     27\n",
            "It019     15\n",
            "It020     21\n",
            "It021     19\n",
            "It022     21\n",
            "It023     16\n",
            "It024     19\n",
            "It025     11\n",
            "It026     15\n",
            "It027     16\n",
            "It028     12\n",
            "Name: count, dtype: int64\n"
          ]
        }
      ]
    },
    {
      "cell_type": "code",
      "source": [
        "sorted(orders['item_id'].unique())"
      ],
      "metadata": {
        "colab": {
          "base_uri": "https://localhost:8080/"
        },
        "id": "Z4AA-wm4z6CZ",
        "outputId": "b5ff4850-cab8-42f5-841a-a56d961febd5"
      },
      "execution_count": 17,
      "outputs": [
        {
          "output_type": "execute_result",
          "data": {
            "text/plain": [
              "['It001',\n",
              " 'It0010',\n",
              " 'It002',\n",
              " 'It003',\n",
              " 'It004',\n",
              " 'It005',\n",
              " 'It006',\n",
              " 'It007',\n",
              " 'It008',\n",
              " 'It009',\n",
              " 'It010',\n",
              " 'It011',\n",
              " 'It012',\n",
              " 'It013',\n",
              " 'It014',\n",
              " 'It015',\n",
              " 'It016',\n",
              " 'It017',\n",
              " 'It018',\n",
              " 'It019',\n",
              " 'It020',\n",
              " 'It021',\n",
              " 'It022',\n",
              " 'It023',\n",
              " 'It024',\n",
              " 'It025',\n",
              " 'It026',\n",
              " 'It027',\n",
              " 'It028']"
            ]
          },
          "metadata": {},
          "execution_count": 17
        }
      ]
    },
    {
      "cell_type": "code",
      "source": [
        "orders['item_id'].nunique()"
      ],
      "metadata": {
        "colab": {
          "base_uri": "https://localhost:8080/"
        },
        "id": "MtxBUTTc54n6",
        "outputId": "a415d366-1783-4e8f-8957-9054ca86227a"
      },
      "execution_count": 18,
      "outputs": [
        {
          "output_type": "execute_result",
          "data": {
            "text/plain": [
              "29"
            ]
          },
          "metadata": {},
          "execution_count": 18
        }
      ]
    },
    {
      "cell_type": "markdown",
      "source": [
        "according to the numbers, we have 24 items.\n",
        "how ever the orders is showing 29 items.\n",
        "here is the differences:\n",
        "'It0010',\n",
        " 'It024',\n",
        " 'It025',\n",
        " 'It026',\n",
        " 'It027',\n",
        " 'It028'"
      ],
      "metadata": {
        "id": "ul_Iv9tcd3uS"
      }
    },
    {
      "cell_type": "code",
      "source": [
        "#Adding the labels and title\n",
        "plt.xlabel('item id')\n",
        "plt.ylabel('frequency')\n",
        "plt.title('Item Preferences')\n",
        "\n",
        "\n",
        "\n",
        "\n",
        "\n",
        "#making the bar plot\n",
        "plt.bar(sorted(orders['item_id'].unique()),orders['item_id'].value_counts().sort_index()\n",
        ",label = 'Item Preference',width= .5)\n",
        "\n",
        "\n",
        "\n",
        "\n",
        "\n",
        "\n",
        "# Rotate x-axis labels vertically\n",
        "plt.xticks(rotation=90)\n",
        "\n",
        "\n",
        "\n",
        "plt.show()"
      ],
      "metadata": {
        "colab": {
          "base_uri": "https://localhost:8080/",
          "height": 502
        },
        "id": "KeAUVOQSCBbk",
        "outputId": "f2f4af4c-682c-4c56-9069-51d4bc4e7d97"
      },
      "execution_count": 19,
      "outputs": [
        {
          "output_type": "display_data",
          "data": {
            "text/plain": [
              "<Figure size 640x480 with 1 Axes>"
            ],
            "image/png": "[encoded data removed]"
          },
          "metadata": {}
        }
      ]
    },
    {
      "cell_type": "markdown",
      "source": [
        "I wanna plot this\n",
        "\n",
        "Count the occurrences of each item\n",
        "\n",
        "item_counts = orders['item_id'].value_counts()\n",
        "\n",
        "and\n",
        "\n",
        "orders['item_id'].unique()\n",
        "\n",
        "\n",
        " i need each variable from item_id to match with its exact item_count. but the problem here is that it only takes the first variable of each axix without paying attention to match each item_id together"
      ],
      "metadata": {
        "id": "fjJ2h5o4ZdJ0"
      }
    },
    {
      "cell_type": "code",
      "source": [],
      "metadata": {
        "id": "mYvtWLH8t77g"
      },
      "execution_count": 19,
      "outputs": []
    },
    {
      "cell_type": "code",
      "source": [
        "#print item_id s to see what items have been ordered\n",
        "#chack how many times\n",
        "\n",
        "#load items file\n",
        "#check what items have not been ordered\n"
      ],
      "metadata": {
        "id": "n9e5Y37T7jgG"
      },
      "execution_count": 20,
      "outputs": []
    },
    {
      "cell_type": "code",
      "source": [
        "orders['in_or_out'].value_counts()"
      ],
      "metadata": {
        "colab": {
          "base_uri": "https://localhost:8080/"
        },
        "id": "tdGmjG_Zcq9C",
        "outputId": "2bd33fa5-f140-462c-f10b-75cf327511e0"
      },
      "execution_count": 21,
      "outputs": [
        {
          "output_type": "execute_result",
          "data": {
            "text/plain": [
              "in_or_out\n",
              "out    228\n",
              "in     203\n",
              "        58\n",
              "Name: count, dtype: int64"
            ]
          },
          "metadata": {},
          "execution_count": 21
        }
      ]
    },
    {
      "cell_type": "markdown",
      "source": [
        "#### We have 58 N/A data about in or out"
      ],
      "metadata": {
        "id": "Mkk4ciF0dIrl"
      }
    },
    {
      "cell_type": "code",
      "source": [
        "orders['in_or_out'].unique()"
      ],
      "metadata": {
        "colab": {
          "base_uri": "https://localhost:8080/"
        },
        "id": "N5NYXSuGgQJd",
        "outputId": "0b0bf504-b71b-4e89-c268-7b9e0aebaa73"
      },
      "execution_count": 22,
      "outputs": [
        {
          "output_type": "execute_result",
          "data": {
            "text/plain": [
              "array(['out', 'in', nan, ' '], dtype=object)"
            ]
          },
          "metadata": {},
          "execution_count": 22
        }
      ]
    },
    {
      "cell_type": "code",
      "source": [
        "#create the pie chart\n",
        "plt.pie(orders['in_or_out'].value_counts(), labels=orders['in_or_out'].value_counts(), autopct='%1.1f%%', startangle=140)\n"
      ],
      "metadata": {
        "colab": {
          "base_uri": "https://localhost:8080/",
          "height": 562
        },
        "id": "JM0s4eh2dG2l",
        "outputId": "824794c6-8999-4bec-b3cc-a2b0de8aa7a2"
      },
      "execution_count": 23,
      "outputs": [
        {
          "output_type": "execute_result",
          "data": {
            "text/plain": [
              "([<matplotlib.patches.Wedge at 0x7c78b4cded10>,\n",
              "  <matplotlib.patches.Wedge at 0x7c78b4cdebf0>,\n",
              "  <matplotlib.patches.Wedge at 0x7c78b4cdfa00>],\n",
              " [Text(-0.7922549710008008, -0.7631068476462, '228'),\n",
              "  Text(1.0157031937460417, 0.4223115227105355, '203'),\n",
              "  Text(-0.5274086815400447, 0.9653186430584421, '58')],\n",
              " [Text(-0.4321390750913458, -0.416240098716109, '46.6%'),\n",
              "  Text(0.5540199238614772, 0.23035173966029204, '41.5%'),\n",
              "  Text(-0.2876774626582062, 0.526537441668241, '11.9%')])"
            ]
          },
          "metadata": {},
          "execution_count": 23
        },
        {
          "output_type": "display_data",
          "data": {
            "text/plain": [
              "<Figure size 640x480 with 1 Axes>"
            ],
            "image/png": "[encoded data removed]"
          },
          "metadata": {}
        }
      ]
    },
    {
      "cell_type": "code",
      "source": [
        "#create the pie chart\n",
        "plt.pie(orders['in_or_out'].value_counts(), labels=orders['in_or_out'].value_counts(), startangle=140)\n"
      ],
      "metadata": {
        "colab": {
          "base_uri": "https://localhost:8080/",
          "height": 510
        },
        "id": "h5--TdtQiOnW",
        "outputId": "42389778-4251-4b43-ed9e-d24fe2aea317"
      },
      "execution_count": 24,
      "outputs": [
        {
          "output_type": "execute_result",
          "data": {
            "text/plain": [
              "([<matplotlib.patches.Wedge at 0x7c78b4b41b10>,\n",
              "  <matplotlib.patches.Wedge at 0x7c78b4b419f0>,\n",
              "  <matplotlib.patches.Wedge at 0x7c78b4b422c0>],\n",
              " [Text(-0.7922549710008008, -0.7631068476462, '228'),\n",
              "  Text(1.0157031937460417, 0.4223115227105355, '203'),\n",
              "  Text(-0.5274086815400447, 0.9653186430584421, '58')])"
            ]
          },
          "metadata": {},
          "execution_count": 24
        },
        {
          "output_type": "display_data",
          "data": {
            "text/plain": [
              "<Figure size 640x480 with 1 Axes>"
            ],
            "image/png": "[encoded data removed]"
          },
          "metadata": {}
        }
      ]
    },
    {
      "cell_type": "markdown",
      "source": [
        "#•\tCan we segment customers based on their purchasing behavior and predict their preferences?\n",
        "•\tUse clustering algorithms and logistic regression to identify customer segments and predict their likely future purchases.\n",
        "\n",
        "\n",
        "####Feature Engineering: Extract relevant features from your dataset that describe customer purchasing behavior. This could include variables such as frequency of purchases, total amount spent, types of products purchased, etc.\n",
        "\n",
        "####Customer Segmentation: Apply clustering algorithms (e.g., K-means, hierarchical clustering) to segment customers based on their purchasing behavior. This will group customers with similar behavior into clusters.\n",
        "\n",
        "####Model Training: Train a logistic regression model for each customer segment to predict their likely future purchases. You'll use historical data as features and the target variable could be binary (e.g., whether a customer purchases a specific product or not within a certain time period).\n",
        "\n",
        "####Model Evaluation: Evaluate the performance of your logistic regression models using appropriate metrics (e.g., accuracy, precision, recall).\n",
        "\n",
        "####Predictive Analysis: Use the trained logistic regression models to make predictions for new customers or existing customers' future purchases."
      ],
      "metadata": {
        "id": "CHuIjc45LPnH"
      }
    },
    {
      "cell_type": "code",
      "source": [
        "# hot drink, cold drink, snacks"
      ],
      "metadata": {
        "id": "-_zP6M_NLao2"
      },
      "execution_count": 24,
      "outputs": []
    },
    {
      "cell_type": "code",
      "source": [],
      "metadata": {
        "id": "Yo_Dr3nlonsv"
      },
      "execution_count": null,
      "outputs": []
    }
  ]
}